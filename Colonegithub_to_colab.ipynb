{
  "nbformat": 4,
  "nbformat_minor": 0,
  "metadata": {
    "colab": {
      "name": "Colonegithub to colab.ipynb",
      "version": "0.3.2",
      "provenance": [],
      "include_colab_link": true
    },
    "kernelspec": {
      "name": "python3",
      "display_name": "Python 3"
    }
  },
  "cells": [
    {
      "cell_type": "markdown",
      "metadata": {
        "id": "view-in-github",
        "colab_type": "text"
      },
      "source": [
        "<a href=\"https://colab.research.google.com/github/hussain0048/Improving-Deep-Neural-Networks-Hyperparameter-tunning-regularization-and-optimization-/blob/master/Colonegithub_to_colab.ipynb\" target=\"_parent\"><img src=\"https://colab.research.google.com/assets/colab-badge.svg\" alt=\"Open In Colab\"/></a>"
      ]
    },
    {
      "metadata": {
        "id": "Usao0L3KTuer",
        "colab_type": "code",
        "colab": {
          "base_uri": "https://localhost:8080/",
          "height": 119
        },
        "outputId": "9059fbba-334a-4e65-85c0-bd4ba3267977"
      },
      "cell_type": "code",
      "source": [
        "!git clone https://github.com/hussain0048/Improving-Deep-Neural-Networks-Hyperparameter-tunning-regularization-and-optimization-.git"
      ],
      "execution_count": 6,
      "outputs": [
        {
          "output_type": "stream",
          "text": [
            "Cloning into 'Improving-Deep-Neural-Networks-Hyperparameter-tunning-regularization-and-optimization-'...\n",
            "remote: Enumerating objects: 21, done.\u001b[K\n",
            "remote: Counting objects:   4% (1/21)   \u001b[K\rremote: Counting objects:   9% (2/21)   \u001b[K\rremote: Counting objects:  14% (3/21)   \u001b[K\rremote: Counting objects:  19% (4/21)   \u001b[K\rremote: Counting objects:  23% (5/21)   \u001b[K\rremote: Counting objects:  28% (6/21)   \u001b[K\rremote: Counting objects:  33% (7/21)   \u001b[K\rremote: Counting objects:  38% (8/21)   \u001b[K\rremote: Counting objects:  42% (9/21)   \u001b[K\rremote: Counting objects:  47% (10/21)   \u001b[K\rremote: Counting objects:  52% (11/21)   \u001b[K\rremote: Counting objects:  57% (12/21)   \u001b[K\rremote: Counting objects:  61% (13/21)   \u001b[K\rremote: Counting objects:  66% (14/21)   \u001b[K\rremote: Counting objects:  71% (15/21)   \u001b[K\rremote: Counting objects:  76% (16/21)   \u001b[K\rremote: Counting objects:  80% (17/21)   \u001b[K\rremote: Counting objects:  85% (18/21)   \u001b[K\rremote: Counting objects:  90% (19/21)   \u001b[K\rremote: Counting objects:  95% (20/21)   \u001b[K\rremote: Counting objects: 100% (21/21)   \u001b[K\rremote: Counting objects: 100% (21/21), done.\u001b[K\n",
            "remote: Compressing objects:   5% (1/17)   \u001b[K\rremote: Compressing objects:  11% (2/17)   \u001b[K\rremote: Compressing objects:  17% (3/17)   \u001b[K\rremote: Compressing objects:  23% (4/17)   \u001b[K\rremote: Compressing objects:  29% (5/17)   \u001b[K\rremote: Compressing objects:  35% (6/17)   \u001b[K\rremote: Compressing objects:  41% (7/17)   \u001b[K\rremote: Compressing objects:  47% (8/17)   \u001b[K\rremote: Compressing objects:  52% (9/17)   \u001b[K\rremote: Compressing objects:  58% (10/17)   \u001b[K\rremote: Compressing objects:  64% (11/17)   \u001b[K\rremote: Compressing objects:  70% (12/17)   \u001b[K\rremote: Compressing objects:  76% (13/17)   \u001b[K\rremote: Compressing objects:  82% (14/17)   \u001b[K\rremote: Compressing objects:  88% (15/17)   \u001b[K\rremote: Compressing objects:  94% (16/17)   \u001b[K\rremote: Compressing objects: 100% (17/17)   \u001b[K\rremote: Compressing objects: 100% (17/17), done.\u001b[K\n",
            "remote: Total 21 (delta 2), reused 0 (delta 0), pack-reused 0\u001b[K\n",
            "Unpacking objects:   4% (1/21)   \rUnpacking objects:   9% (2/21)   \rUnpacking objects:  14% (3/21)   \rUnpacking objects:  19% (4/21)   \rUnpacking objects:  23% (5/21)   \rUnpacking objects:  28% (6/21)   \rUnpacking objects:  33% (7/21)   \rUnpacking objects:  38% (8/21)   \rUnpacking objects:  42% (9/21)   \rUnpacking objects:  47% (10/21)   \rUnpacking objects:  52% (11/21)   \rUnpacking objects:  57% (12/21)   \rUnpacking objects:  61% (13/21)   \rUnpacking objects:  66% (14/21)   \rUnpacking objects:  71% (15/21)   \rUnpacking objects:  76% (16/21)   \rUnpacking objects:  80% (17/21)   \rUnpacking objects:  85% (18/21)   \rUnpacking objects:  90% (19/21)   \rUnpacking objects:  95% (20/21)   \rUnpacking objects: 100% (21/21)   \rUnpacking objects: 100% (21/21), done.\n"
          ],
          "name": "stdout"
        }
      ]
    }
  ]
}